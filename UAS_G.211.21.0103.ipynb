#panda untuk memanggil dataset
import pandas as pd
#matplotlib untuk visualisasi
import matplotlib.pyplot as plt
