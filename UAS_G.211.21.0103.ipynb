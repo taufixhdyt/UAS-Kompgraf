#panda untuk memanggil dataset
import pandas as pd
#matplotlib untuk visualisasi
import matplotlib.pyplot as plt

#__________________#
##----- NO 1 -----##
#__________________#
#pengambilan dataset
dt = pd.read_csv('https://raw.githubusercontent.com/taufixhdyt/UAS-Kompgraf/main/Curah%20Hujan.csv')
#menampilkan data teratas
print(dt.head())

#set kolom x da grafik y
x = dt['Bulan']
y1 = dt['1981 - 1990']
y2 = dt['1991 - 2000']
y3 = dt['2001 - 2010']

#memberikan ukuran pada clustered column
bar_width = 0.15
bar_spacing = 0

#menghitung posisi grup berdasarkan lebar dan jarak antara grup
x_ticks = np.arange(len(x))
x1 = x_ticks - (bar_width + bar_spacing)
x2 = x_ticks
x3 = x_ticks + (bar_width + bar_spacing)

#ukuran saya definisikan 10x5
plt.figure(figsize=(10, 5))

#bars1-3 merupakan variabel
bars1 = plt.bar(x1, y1, width=bar_width, align='center', label='1981 - 1990', color='blue')
bars2 = plt.bar(x2, y2, width=bar_width, align='center', label='1991 - 2000', color='red')
bars3 = plt.bar(x3, y3, width=bar_width, align='center', label='2001 - 2010', color='green')

#pemberian keterangan 
plt.xlabel('Bulan', fontweight='bold')
plt.ylabel('Curah Hujan (mm)', fontweight='bold')
plt.xticks(x_ticks, x)
plt.tight_layout()
handles, labels = plt.gca().get_legend_handles_labels()
plt.legend(handles, labels, loc='upper center', bbox_to_anchor=(0.5, 1.08), ncol=3)
plt.grid(True, axis='y',  linewidth='0.2', color='gray', zorder=0)

#menampilkan grafik
plt.show()


#__________________#
##----- NO 2 -----##
#__________________#
#pengambilan dataset
dt = pd.read_csv('https://raw.githubusercontent.com/taufixhdyt/UAS-Kompgraf/main/suhu%20permukaan.csv')
#menampilkan data teratas
print(dt)

#mengimport datetime untuk mengatur format waktu
from datetime import datetime

#menggabungkan data
dt['datetime'] = dt.apply(lambda row: datetime(int(row['tahun']), int(row['bulan']), int(row['tanggal']), int(row['jam'])), axis=1)

#mengambil kolom untuk dijadikan chart
datetime_dt = dt['datetime']
asimilasi = dt['asimilasi']
observasi = dt['observasi']
non_asimilasi = dt['non asimilasi']

#ukuran saya definisikan 10x5
plt.figure(figsize=(10, 5))

#pembuatan line chart dengan style ketebalan, marker, dan warna
plt.plot(datetime_dt, asimilasi, color='blue', linewidth=2, marker='o', label='Asimilasi')
plt.plot(datetime_dt, observasi, color='yellow', linewidth=2, marker='o', label='Observasi')
plt.plot(datetime_dt, non_asimilasi, color='red', linewidth=2, marker='o', label='Non-Asimilasi')

#pemberian keterangan
plt.xlabel('Waktu (UTC)')
plt.ylabel('Celcius')
plt.title('Suhu Permukaan')

#format label sumbu x menjadi tanggal, bulan, tahun, dan jam
plt.xticks(rotation=45, ha='right')
plt.gca().xaxis.set_major_formatter(plt.FixedFormatter(dt['datetime'].dt.strftime('%d %b %Y %H:%M')))
plt.legend(bbox_to_anchor=(1.1, 0.5), loc='upper center')
plt.grid(True, axis='y',  linewidth='0.2', color='gray', zorder=0)

#menampilkan line chart
plt.show()
